{
 "cells": [
  {
   "cell_type": "markdown",
   "metadata": {},
   "source": [
    "## Tutorial 9\n",
    "\n",
    "\n",
    "\n"
   ]
  },
  {
   "cell_type": "markdown",
   "metadata": {},
   "source": [
    "## Recursion\n",
    "\n"
   ]
  },
  {
   "cell_type": "markdown",
   "metadata": {},
   "source": [
    "Exercises:\n",
    "\n",
    "\n",
    "\n"
   ]
  },
  {
   "cell_type": "code",
   "execution_count": null,
   "metadata": {},
   "outputs": [],
   "source": [
    "# Implement a function that prints a countdown from n to 0. Assume n > 0.\n",
    "def countdown(n: int) -> None:\n",
    "    #TODO\n",
    "    return\n"
   ]
  },
  {
   "cell_type": "code",
   "execution_count": null,
   "metadata": {},
   "outputs": [
    {
     "ename": "",
     "evalue": "",
     "output_type": "error",
     "traceback": [
      "\u001b[1;31mRunning cells with 'Python 3.12.5' requires the ipykernel package.\n",
      "\u001b[1;31mRun the following command to install 'ipykernel' into the Python environment. \n",
      "\u001b[1;31mCommand: '/usr/local/bin/python3 -m pip install ipykernel -U --user --force-reinstall'"
     ]
    }
   ],
   "source": [
    "# Implement a function that prints a countdown from n to 0. Assume n > 0.\n",
    "\n",
    "def countdown(n: int) -> None:\n",
    "\t\n",
    "# base case\n",
    "\tif n < 0: \n",
    "\t\treturn \n",
    "\t\t\n",
    "\tprint(n)\n",
    "\tcountdown(n-1)\n",
    "\n",
    "# Testing\n",
    "countdown(10)"
   ]
  },
  {
   "cell_type": "code",
   "execution_count": null,
   "metadata": {},
   "outputs": [],
   "source": [
    "from typing import List\n",
    "\n",
    "# Example 2\n",
    "# Write a function lookup that \n",
    "# returns true if an element exists in a list\n",
    "# and false otherwise\n",
    "\n",
    "def lookup(L: List[int], target: int) -> bool: \n",
    "    \n",
    "    \n",
    "\t if target == L[0]:\n",
    "\t \treturn True\n",
    " \n",
    "\t\n",
    "\t# return lookup(L[1:], target)\n",
    "\n",
    "    #TODO \n",
    "    return"
   ]
  },
  {
   "cell_type": "code",
   "execution_count": null,
   "metadata": {},
   "outputs": [],
   "source": [
    "# Solution:\n",
    "\n",
    "from typing import Dict, List\n",
    "\n",
    "# Example 2\n",
    "# Write a function lookup that \n",
    "# returns true if an element exists in a list\n",
    "# and false otherwise\n",
    "\n",
    "def lookup(L: List[int], target: int) -> bool:\n",
    "    \n",
    "    \n",
    "\t# if target == L[0]:\n",
    "\t# \treturn True\n",
    " \n",
    " \n",
    "\t# # recursive case\n",
    "\t# return lookup(L[1:], target)\n",
    " \n",
    "\t# Base case\n",
    "\tif not L:\n",
    "\t\treturn False\n",
    "\t\n",
    "\t# recursive case\n",
    "\treturn target == L[0] or lookup(L[1:], target)\n",
    "\t\n",
    " \n",
    "# Test Cases:\n",
    "lookup([2,4,6,8,10], 6)\n",
    "# lookup([2,4,6,8,10], 7)\n",
    "\n"
   ]
  },
  {
   "cell_type": "code",
   "execution_count": null,
   "metadata": {},
   "outputs": [],
   "source": [
    "# Example 3\n",
    "# Write a Python program to calculate the value of 'a' to the power of 'b'.\n",
    "# Assume 0^0 = 1 and b >= 0\n",
    "\n",
    "def power_of(a, b):\n",
    "    if b == 0 :\n",
    "        return 1\n",
    "    return a*power_of(a,b-1)\n"
   ]
  },
  {
   "cell_type": "code",
   "execution_count": null,
   "metadata": {},
   "outputs": [],
   "source": [
    "# Solution:\n",
    "\n",
    "def power_of(a, b):\n",
    "\t# base case\n",
    "\tif b == 0:\n",
    "\t\treturn 1\n",
    "\n",
    "\tif a == 0:\n",
    "\t\treturn 0\t\n",
    "\n",
    "\t# recursive case\n",
    "\treturn a * power_of(a,b-1)\n",
    "\n",
    "assert power_of(3,4) == 81\n",
    "assert power_of(0,0) == 1\n",
    "assert power_of(0,4) == 0\n",
    "assert power_of(4,2) == 16\n",
    "\n"
   ]
  },
  {
   "cell_type": "code",
   "execution_count": null,
   "metadata": {},
   "outputs": [],
   "source": [
    "def is_all_digits(s: str) -> bool:\n",
    "    \"\"\"\n",
    "    Returns True if all characters in s are digits.\n",
    "    >>> is_all_digits(\"12345\")\n",
    "    True\n",
    "    >>> is_all_digits(\"123a5\")\n",
    "    False\n",
    "    \"\"\"\n",
    "    \n",
    "    if not s:\n",
    "        return True\n",
    "    return s[0].isdigit() and is_all_digits(s[1:])"
   ]
  },
  {
   "cell_type": "code",
   "execution_count": null,
   "metadata": {},
   "outputs": [],
   "source": [
    "def find_max(nums: List[int]) -> int:\n",
    "    \"\"\"\n",
    "    Recursively finds the maximum element in nums.\n",
    "    Assume nums is not empty.\n",
    "\n",
    "    >>> find_max([1, 2, 3, 4, 5])\n",
    "    5\n",
    "    >>> find_max([5, 1, 2, 3, 4])\n",
    "    5\n",
    "    \"\"\"\n",
    "    # Base case: if the list has only one element, return it\n",
    "    if len(nums) == 1:\n",
    "        return nums[0]\n",
    "    \n",
    "    # Recursive step: compare the first element with the maximum of the rest\n",
    "    max_of_rest = find_max(nums[1:])\n",
    "    if nums[0] > max_of_rest:\n",
    "        return nums[0]\n",
    "    else:\n",
    "        return max_of_rest\n",
    "    "
   ]
  }
 ],
 "metadata": {
  "kernelspec": {
   "display_name": "Python 3",
   "language": "python",
   "name": "python3"
  },
  "language_info": {
   "codemirror_mode": {
    "name": "ipython",
    "version": 3
   },
   "file_extension": ".py",
   "mimetype": "text/x-python",
   "name": "python",
   "nbconvert_exporter": "python",
   "pygments_lexer": "ipython3",
   "version": "3.12.5"
  }
 },
 "nbformat": 4,
 "nbformat_minor": 2
}
