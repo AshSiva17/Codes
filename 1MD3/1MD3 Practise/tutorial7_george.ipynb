{
 "cells": [
  {
   "cell_type": "markdown",
   "metadata": {},
   "source": [
    "## Tutorial 7\n",
    "\n",
    "\n"
   ]
  },
  {
   "cell_type": "markdown",
   "metadata": {},
   "source": [
    "## Dictionaries\n"
   ]
  },
  {
   "cell_type": "markdown",
   "metadata": {},
   "source": [
    "Exercises:\n",
    "\n",
    "\n",
    "\n"
   ]
  },
  {
   "cell_type": "code",
   "execution_count": null,
   "metadata": {},
   "outputs": [],
   "source": [
    "#  Given two dictionaries, merge them so that the lists for each key are concatenated. Write combine1 that does this.\n",
    "\n",
    "from typing import Dict, List\n",
    "\n",
    "def combine1(d1: Dict[int, List[int]], d2: Dict[int, List[int]]) -> Dict[int, List[int]]:\n",
    "    # Code here\n",
    "\n",
    "\n",
    "\n",
    "\n",
    "# Example:\n",
    "# d1 = {1: [2], 3: [4], 5: [6, 7]}\n",
    "# d2 = {3: [4, 10], 5: [1]}\n",
    "# print(combine1(d1, d2))  # Output: {1: [2], 3: [4, 4, 10], 5: [6, 7, 1]}\n"
   ]
  },
  {
   "cell_type": "code",
   "execution_count": 1,
   "metadata": {},
   "outputs": [
    {
     "name": "stdout",
     "output_type": "stream",
     "text": [
      "{1: [2], 3: [4, 4, 10], 5: [6, 7, 1]}\n"
     ]
    }
   ],
   "source": [
    "# Solution:\n",
    "\n",
    "from typing import Dict, List\n",
    "\n",
    "def combine1(d1: Dict[int, List[int]], d2: Dict[int, List[int]]) -> Dict[int, List[int]]:\n",
    "    combined = {}\n",
    "    for key in d1:\n",
    "        combined[key] = d1[key].copy()  # Copy the list to avoid mutating d1\n",
    "    for key in d2:\n",
    "        if key in combined:\n",
    "            combined[key] += d2[key]  # Concatenate lists if key exists in both\n",
    "        else:\n",
    "            combined[key] = d2[key].copy()  # Copy the list to avoid mutating d2\n",
    "    return combined\n",
    "\n",
    "# Example\n",
    "d1 = {1: [2], 3: [4], 5: [6, 7]}\n",
    "d2 = {3: [4, 10], 5: [1]}\n",
    "print(combine1(d1, d2))  # Output: {1: [2], 3: [4, 4, 10], 5: [6, 7, 1]}\n",
    "\n",
    "\n"
   ]
  },
  {
   "cell_type": "code",
   "execution_count": null,
   "metadata": {},
   "outputs": [],
   "source": [
    "# Merge two dictionaries by summing values for each key.\n",
    "\n",
    "from typing import Dict, List\n",
    "\n",
    "def combine2(d1: Dict[int, List[int]], d2: Dict[int, List[int]]) -> Dict[int, int]:\n",
    "    total = {}\n",
    "\n",
    "    for key in d1: \n",
    "        \n",
    "\n",
    "\n",
    "    "
   ]
  },
  {
   "cell_type": "code",
   "execution_count": 3,
   "metadata": {},
   "outputs": [
    {
     "name": "stdout",
     "output_type": "stream",
     "text": [
      "{1: 2, 4: 19}\n"
     ]
    }
   ],
   "source": [
    "# Solution:\n",
    "\n",
    "from typing import Dict, List\n",
    "\n",
    "def combine2(d1: Dict[int, List[int]], d2: Dict[int, List[int]]) -> Dict[int, int]:\n",
    "    # Create a new dictionary to hold the combined results\n",
    "    combined = {}\n",
    "\n",
    "    # Iterate over each key-value pair in the first dictionary, d1\n",
    "    for key, values in d1.items():\n",
    "        # Sum the list of values for the current key and add this sum to 'combined'\n",
    "        combined[key] = sum(values)  # Sum values in d1\n",
    "\n",
    "    # Iterate over each key-value pair in the second dictionary, d2\n",
    "    for key, values in d2.items():\n",
    "        if key in combined:\n",
    "            # If the key is already in 'combined', add the sum of values from d2 to the existing sum\n",
    "            combined[key] += sum(values)  # Add sum of values in d2\n",
    "        else:\n",
    "            # If the key is not in 'combined', add it as a new entry with the sum of values from d2\n",
    "            combined[key] = sum(values)\n",
    "\n",
    "    return combined\n",
    "\n",
    "# Example usage:\n",
    "d1 = {1: [2], 4: [5, 6]}\n",
    "d2 = {4: [8]}\n",
    "print(combine2(d1, d2))  # Output: {1: 2, 4: 19}\n"
   ]
  },
  {
   "cell_type": "code",
   "execution_count": null,
   "metadata": {},
   "outputs": [],
   "source": [
    "# Write invert, where each unique value becomes a key with a list of original keys as its value.\n",
    "from typing import Dict, List\n",
    "\n",
    "def invert(d: Dict[int, int]) -> Dict[int, List[int]]:\n",
    "    # Code here\n",
    "\n",
    "    \n"
   ]
  },
  {
   "cell_type": "code",
   "execution_count": null,
   "metadata": {},
   "outputs": [],
   "source": [
    "# Solution:\n",
    "\n",
    "def invert(d: Dict[int, int]) -> Dict[int, List[int]]:\n",
    "    inverted = {}\n",
    "    for key, value in d.items():\n",
    "        if value in inverted:\n",
    "            inverted[value].append(key)  # Add key to existing list for this value\n",
    "        else:\n",
    "            inverted[value] = [key]  # Create a new list for this value\n",
    "    return inverted\n",
    "\n",
    "# Example\n",
    "d = {1: 2, 2: 3, 3: 2}\n",
    "print(invert(d))  # Output: {2: [1, 3], 3: [2]}\n",
    "\n"
   ]
  }
 ],
 "metadata": {
  "kernelspec": {
   "display_name": "Python 3",
   "language": "python",
   "name": "python3"
  },
  "language_info": {
   "codemirror_mode": {
    "name": "ipython",
    "version": 3
   },
   "file_extension": ".py",
   "mimetype": "text/x-python",
   "name": "python",
   "nbconvert_exporter": "python",
   "pygments_lexer": "ipython3",
   "version": "3.12.6"
  }
 },
 "nbformat": 4,
 "nbformat_minor": 2
}
